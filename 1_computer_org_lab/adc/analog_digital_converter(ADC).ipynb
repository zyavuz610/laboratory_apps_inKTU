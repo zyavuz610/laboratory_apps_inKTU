{
  "nbformat": 4,
  "nbformat_minor": 0,
  "metadata": {
    "colab": {
      "name": "analog-digital converter(ADC).ipynb",
      "provenance": [],
      "collapsed_sections": [],
      "include_colab_link": true
    },
    "kernelspec": {
      "name": "python3",
      "display_name": "Python 3"
    }
  },
  "cells": [
    {
      "cell_type": "markdown",
      "metadata": {
        "id": "view-in-github",
        "colab_type": "text"
      },
      "source": [
        "<a href=\"https://colab.research.google.com/github/zyavuz610/laboratory_apps_inKTU/blob/master/1_computer_org_lab/adc/analog_digital_converter(ADC).ipynb\" target=\"_parent\"><img src=\"https://colab.research.google.com/assets/colab-badge.svg\" alt=\"Open In Colab\"/></a>"
      ]
    },
    {
      "cell_type": "markdown",
      "metadata": {
        "id": "_55SIgvq6OdL",
        "colab_type": "text"
      },
      "source": [
        "# Analog-Dijital Dönüştürücü - (ADC)\n",
        "## Giriş\n",
        "* **ADC Nedir?:** Analog işaretleri sayısal işaretlere dönüştüren elektronik devrelere Analog-Digital Dönüştürücü denilmektedir.\n",
        "* **Neden ADC?:**  \n",
        "  * Analog işaretler analog donanım kullanılarak işlenebilir. Analog donanım üzerinde herhangi bir değişiklik ya da iyileştime yapmak hem masraflı hem de zaman alıcı bir işlemdir. Oysaki yazılım düzeyinde değişiklik yapmak oldukça kolaydır. Bu yüzden yazılım olarak işlenebilecek işaretler bir A/D dönüştürücü üzerinden sayısal işaretlere dönüştürülür ve değişiklik işlemi sadece yazılım üzerinde yapılır.\n",
        "  * Maksimum ve minimum sınırları arasında farklı değerler alarak değişen elektriksel büyüklüklere analog bilgi ya da analog değer denir. Akım ve gerilim analog değerlerdir. Büyüklüklerin gerilim “var” veya “yok” anlamına gelen “1” ve “0” şeklinde iki rakam kullanılarak ifade edilmesine dijital bilgi ya da dijital değer denir. Sensörler çıkışlarında genellikle analog değer bulunur. Mikroişlemci ile çalışan elektronik cihazlar sadece dijital bilgileri alıp değerlendirebilir. Bu durumda mikroişlemcili ve dijital birçok cihaz için analog bilgilerin dijital bilgilere dönüştürülmesi gerekir. İşte sensörlerden elde edilecek ve analog olan bu gerilim değerlerinin sayısal sistemlerde yazılımla işlenebilmesi için sayısal dönüşümü için Analog-Digital dönüştürücüler kullanılmaktadır.\n",
        "* **ADC nerede kullanılır?:** Analog-Digital dönüştürücüler günümüzde değişik amaçlar için birçok elektronik cihaz (sayısal osiloskop, multimetre, mikro-kontrol üniteleri, ses kartı) içerisinde kullanılmaktadır. Bu elektronik cihazlar, fiziksel değişimleri çeşitli sensörler (duyargalar) ile algılayıp kontrol edilmesini sağlar. Sensörler, ağırlık, uzunluk, ışık şiddeti, sıcaklık, basınç, debi gibi fiziksel büyüklükleri, bunlarla orantılı akım veya gerilim cinsinden elektriksel değerlere dönüştürür.\n",
        "* **ADC dönüştürme yöntemleri:** Deneyde anlatılan 2 farklı ADC yöntemi mevcuttur. 1) Rampa Yöntemi, 2) Ardışıl Yaklaşım Yöntemi. Bunların dışında Flash ADC, tek eğimli, çift eğimli, sigma-delta, pipeline gibi farklı yöntemler de mevcuttur\n",
        "\n",
        "## ADC devrelerinin genel yapısı\n",
        "![ADC0](https://github.com/zyavuz610/logic_design_inKTU/blob/master/1_computer_org_lab/adc/ADC-working.jpg?raw=true) \n",
        "\n",
        "## ADC devrelerinin kabaca iç yapısı\n",
        "![ADC](https://github.com/zyavuz610/logic_design_inKTU/blob/master/1_computer_org_lab/adc/8bit_adc_block_diagram.png?raw=true) ![Sekil 2](https://github.com/zyavuz610/logic_design_inKTU/blob/master/1_computer_org_lab/adc/adc_sekil2.PNG?raw=true)\n",
        "* Şekil 2'de bir çelişki var mı?\n",
        "* Şekil 2'nin girişi, çıkışı?\n",
        "* Şekil 2'ye göre ADC nasıl çalışır?\n",
        "\n"
      ]
    },
    {
      "cell_type": "markdown",
      "metadata": {
        "id": "jOPBAwTX2JnX",
        "colab_type": "text"
      },
      "source": [
        "## Şekil 2 nin Kabaca İç Yapısı ve Rampa Yöntemi Temsili\n",
        "![ADC2](https://github.com/zyavuz610/laboratory_apps_inKTU/blob/master/1_computer_org_lab/adc/adc.gif?raw=true)"
      ]
    },
    {
      "cell_type": "markdown",
      "metadata": {
        "id": "ZuYuiNo093tq",
        "colab_type": "text"
      },
      "source": [
        "## Örnekleme ve Kuantalama\n",
        "* Analog değerler zamana göre sürekli (kesintisiz) olduğundan, tüm zaman dilimlerine karşılık gelen bir analog gerilim değeri vardır. \n",
        "* Her analog değer için bir dijital değer oluşturmak çok maliyetli ve karmaşık olacağından uygulamada pratik değildir. \n",
        "* Bu nedenle analog değer üzerinden belirli zaman aralıklarında örnekler alınır. Bu işleme örnekleme denir. \n",
        "* Her örnek için seviyesine göre kodlanmış dijital bir değer üretilir. Bu işleme de kuantalama (kodlama) denilmektedir. \n",
        "* Kısaca ADC devrelerin çalışmasını **“örnekle, karşılaştır, dijital olarak kodla”** şeklinde özetlenebilir. \n",
        "* Aşağıda örnekleme ve kuantalama  konusu python kaynak kodları ile karşılatırmalı olarak verilmiştir.\n",
        "  * Farklı örnekleme frekanlarını deneyiniz.\n",
        "\n",
        "### Örnekleme\n"
      ]
    },
    {
      "cell_type": "code",
      "metadata": {
        "id": "LJqdyvQStogf",
        "colab_type": "code",
        "outputId": "9c5881c0-fc7f-42d5-d5e1-112e0c576b57",
        "colab": {
          "base_uri": "https://localhost:8080/",
          "height": 269
        }
      },
      "source": [
        "# ÖRNEKLEME\n",
        "import numpy as np\n",
        "import matplotlib.pyplot as plt\n",
        "\n",
        "sf = 50                 # kaç örnek alınacak\n",
        "\n",
        "pi_n = 1                # grafikteki pi sayısı\n",
        "A    = 1                # grafiğin dikey öteleme miktarı\n",
        "Gmin = 0               # grafiğin min değeri    \n",
        "Glen = 3.75             # grafiğin dikey büyüklüğü\n",
        "Gmax = Gmin + Glen\n",
        "scale = Glen/2.      # ölçekleme parametresi\n",
        "\n",
        "x   = np.linspace(0,pi_n*2*np.pi,1000)\n",
        "y   = scale * (np.sin(x) + A) + Gmin\n",
        "x2  = np.linspace(0,pi_n*2*np.pi,sf)\n",
        "y2  = scale * (np.sin(x2) + A) + Gmin\n",
        "plt.plot(x,y,\"b-\",x2,y2,\"ro\")\n",
        "plt.grid(b=True, which='major', color='#666666', linestyle='-')\n",
        "plt.show()"
      ],
      "execution_count": 0,
      "outputs": [
        {
          "output_type": "display_data",
          "data": {
            "image/png": "[encoded data removed]",
            "text/plain": [
              "<Figure size 432x288 with 1 Axes>"
            ]
          },
          "metadata": {
            "tags": []
          }
        }
      ]
    },
    {
      "cell_type": "markdown",
      "metadata": {
        "id": "NFcBxBhf965b",
        "colab_type": "text"
      },
      "source": [
        "### Kuantalama\n",
        "* Burada önemli 2 parametre vardır.\n",
        "* **Çözünürlük (n):**  ADC’nin analog girişindeki en küçük değer değişimine karşılık çıkışında dijital farklılık oluşturma yeteneğidir.  Uygulamada ADC’ler için çözünürlük denildiğinde çıkıştaki bit sayısı akla gelmektedir.  Çeşitli üretici firmalar tarafından 8, 10, 12, 14, 15, 16, 18, 20, 24 bit çözünürlükte değişik ADC entegreleri üretilmiştir.  Dijital çıkışın bit sayısının fazla olması çözünürlüğü artırır.  Analog-dijital dönüştürücüde daha hassas değerler elde etmek için çözünürlüğün yüksek olması istenir. \n",
        "* **Quantum Seviyesi (Bölüntü Seviyesi, q):** ADC girişine uygulanan analog sinyal, minimum ve maksimum genlik değerleri arasında eşit aralıklara bölünür.  Her aralık dijital çıkışta bir bitlik değişime neden olur.  Örneğin  “n”  sayıda dijital çıkışı olan bir ADC 2^n adet ayrık quantum seviyesine sahip demektir. Girişteki analog sinyalin minimum-maksimum arası (2^n-1) adet eşit parçaya bölünmüş olur. \n",
        "  * q=(Vmax-Vmin)/(2^n-1)\n",
        "* aşağıda farklı çözünürlük, Vmin, Vmax değerlerini deneyiniz, sonuçları karşılaştırınız ve yorumlayınız.\n",
        "* **Uyarı!:* önce örneklemeyi çalıştırın, daha sonra quantalamayı çalıştırın"
      ]
    },
    {
      "cell_type": "code",
      "metadata": {
        "id": "0IuuiS0ByjQ5",
        "colab_type": "code",
        "outputId": "252f760a-73bb-4daa-9bac-a447c0e2a21e",
        "colab": {
          "base_uri": "https://localhost:8080/",
          "height": 269
        }
      },
      "source": [
        "# quantalama\n",
        "import numpy as np\n",
        "import matplotlib.pyplot as plt\n",
        "fig = plt.figure()\n",
        "ax = fig.add_subplot(1, 1, 1)\n",
        "sf = 50                 # kaç örnek alınacak\n",
        "pi_n = 1                # grafikteki pi sayısı\n",
        "A    = 1                # grafiğin dikey öteleme miktarı\n",
        "rn = 2\n",
        "#############################################################\n",
        "# PARAMETRELER\n",
        "n = 4           # çözünürlük\n",
        "Gmin = 0               # grafiğin min değeri    \n",
        "Glen = 3.75             # grafiğin dikey büyüklüğü\n",
        "Gmax = Gmin + Glen\n",
        "#############################################################\n",
        "scale = Glen/2.      # ölçekleme parametresi\n",
        "q = round((Gmax-Gmin)/(2**n - 1),rn) \n",
        "minor_ticks = np.arange(Gmin, Gmax+1, q)\n",
        "ax.set_yticks(minor_ticks, minor=True)\n",
        "ax.grid(which='minor')\n",
        "x2  = np.linspace(0,pi_n*2*np.pi,sf)\n",
        "y2  = scale * (np.sin(x2) + A) + Gmin\n",
        "plt.plot(x2,y2,\"r.\")\n",
        "plt.show()"
      ],
      "execution_count": 0,
      "outputs": [
        {
          "output_type": "display_data",
          "data": {
            "image/png": "[encoded data removed]",
            "text/plain": [
              "<Figure size 432x288 with 1 Axes>"
            ]
          },
          "metadata": {
            "tags": []
          }
        }
      ]
    },
    {
      "cell_type": "code",
      "metadata": {
        "id": "vbLbTc6QgqU_",
        "colab_type": "code",
        "outputId": "6e50a29f-cc0b-4ceb-a6ea-5a42db58c875",
        "colab": {
          "base_uri": "https://localhost:8080/",
          "height": 1000
        }
      },
      "source": [
        "# rampa yöntemi\n",
        "import numpy as np\n",
        "import matplotlib.pyplot as plt\n",
        "\n",
        "def mybin(num,n):\n",
        "    s = \"\"\n",
        "    while num > 0:\n",
        "        m = num % 2\n",
        "        num = num //2\n",
        "        s = str(m) + s\n",
        "        n = n - 1\n",
        "    while n > 0:\n",
        "        s = \"0\" + s\n",
        "        n = n - 1\n",
        "    return s\n",
        "\n",
        "######################################################\n",
        "# PARAMETRELER\n",
        "Vmin    = -5.0\n",
        "Vmax    = 5.0\n",
        "Va      = 1.7                           # giriş\n",
        "n       = 6                             # çözünürlük\n",
        "######################################################\n",
        "\n",
        "Vo = -1.        # başlangıçta çıkış (-)\n",
        "i = 1\n",
        "rn = 4          # yuvarlatma basamak sayısı\n",
        "                       \n",
        "#######################################################\n",
        "# q = quantum                      \n",
        "q = round((Vmax-Vmin)/(2**n - 1),rn)          \n",
        "####################################################### \n",
        "\n",
        "gr = 1\n",
        "grRampVd = np.zeros(2**n)\n",
        "grRampVa = np.zeros(2**n)\n",
        "\n",
        "print(\"Vmin\",Vmin,sep=\"\\t\")\n",
        "print(\"Vmax\",Vmax,sep=\"\\t\")\n",
        "print(\"n\",n,sep=\"\\t\")\n",
        "print(\"q\",q,sep=\"\\t\")\n",
        "print(\"\\n\")\n",
        "print(\"Va\",\"SB\",\"Vd\",\"Vo\",sep='\\t')\n",
        "print(\"-----------------------------\")\n",
        "while Vo < 0:\n",
        "    Vd = round(i*q + Vmin,rn)\n",
        "    Vo = round(Vd - Va,rn)\n",
        "    grRampVa[i-1] = Va\n",
        "    grRampVd[i-1] = Vd\n",
        "    print(Va,mybin(i,n),Vd,Vo,sep='\\t')\n",
        "    i = i+1\n",
        "for i in range(i-1,2**n):\n",
        "    grRampVa[i] = Va\n",
        "    grRampVd[i] = Vd\n",
        "\n",
        "err = round(Va - Vd,rn+2)\n",
        "print(\"Hata\",err)\n",
        "\n",
        "if gr == 1:\n",
        "    axes = plt.gca()\n",
        "    axes.set_ylim([Vmin,Vmax])\n",
        "    plt.plot(grRampVd,'ro',grRampVa,'b--')"
      ],
      "execution_count": 0,
      "outputs": [
        {
          "output_type": "stream",
          "text": [
            "Vmin\t-5.0\n",
            "Vmax\t5.0\n",
            "n\t6\n",
            "q\t0.1587\n",
            "\n",
            "\n",
            "Va\tSB\tVd\tVo\n",
            "-----------------------------\n",
            "1.7\t000001\t-4.8413\t-6.5413\n",
            "1.7\t000010\t-4.6826\t-6.3826\n",
            "1.7\t000011\t-4.5239\t-6.2239\n",
            "1.7\t000100\t-4.3652\t-6.0652\n",
            "1.7\t000101\t-4.2065\t-5.9065\n",
            "1.7\t000110\t-4.0478\t-5.7478\n",
            "1.7\t000111\t-3.8891\t-5.5891\n",
            "1.7\t001000\t-3.7304\t-5.4304\n",
            "1.7\t001001\t-3.5717\t-5.2717\n",
            "1.7\t001010\t-3.413\t-5.113\n",
            "1.7\t001011\t-3.2543\t-4.9543\n",
            "1.7\t001100\t-3.0956\t-4.7956\n",
            "1.7\t001101\t-2.9369\t-4.6369\n",
            "1.7\t001110\t-2.7782\t-4.4782\n",
            "1.7\t001111\t-2.6195\t-4.3195\n",
            "1.7\t010000\t-2.4608\t-4.1608\n",
            "1.7\t010001\t-2.3021\t-4.0021\n",
            "1.7\t010010\t-2.1434\t-3.8434\n",
            "1.7\t010011\t-1.9847\t-3.6847\n",
            "1.7\t010100\t-1.826\t-3.526\n",
            "1.7\t010101\t-1.6673\t-3.3673\n",
            "1.7\t010110\t-1.5086\t-3.2086\n",
            "1.7\t010111\t-1.3499\t-3.0499\n",
            "1.7\t011000\t-1.1912\t-2.8912\n",
            "1.7\t011001\t-1.0325\t-2.7325\n",
            "1.7\t011010\t-0.8738\t-2.5738\n",
            "1.7\t011011\t-0.7151\t-2.4151\n",
            "1.7\t011100\t-0.5564\t-2.2564\n",
            "1.7\t011101\t-0.3977\t-2.0977\n",
            "1.7\t011110\t-0.239\t-1.939\n",
            "1.7\t011111\t-0.0803\t-1.7803\n",
            "1.7\t100000\t0.0784\t-1.6216\n",
            "1.7\t100001\t0.2371\t-1.4629\n",
            "1.7\t100010\t0.3958\t-1.3042\n",
            "1.7\t100011\t0.5545\t-1.1455\n",
            "1.7\t100100\t0.7132\t-0.9868\n",
            "1.7\t100101\t0.8719\t-0.8281\n",
            "1.7\t100110\t1.0306\t-0.6694\n",
            "1.7\t100111\t1.1893\t-0.5107\n",
            "1.7\t101000\t1.348\t-0.352\n",
            "1.7\t101001\t1.5067\t-0.1933\n",
            "1.7\t101010\t1.6654\t-0.0346\n",
            "1.7\t101011\t1.8241\t0.1241\n",
            "Hata -0.1241\n"
          ],
          "name": "stdout"
        },
        {
          "output_type": "display_data",
          "data": {
            "image/png": "[encoded data removed]",
            "text/plain": [
              "<Figure size 432x288 with 1 Axes>"
            ]
          },
          "metadata": {
            "tags": []
          }
        }
      ]
    },
    {
      "cell_type": "code",
      "metadata": {
        "id": "THEq5ox3n8Mz",
        "colab_type": "code",
        "outputId": "bd079d6b-d99c-4fda-9673-790e2996948a",
        "colab": {
          "base_uri": "https://localhost:8080/",
          "height": 575
        }
      },
      "source": [
        "# ardışıl yaklaşım yöntemi\n",
        "import numpy as np\n",
        "import matplotlib.pyplot as plt\n",
        "\n",
        "def mybin(num,n):\n",
        "    s = \"\"\n",
        "    while num > 0:\n",
        "        m = num % 2\n",
        "        num = num //2\n",
        "        s = str(m) + s\n",
        "        n = n - 1\n",
        "    while n > 0:\n",
        "        s = \"0\" + s\n",
        "        n = n - 1\n",
        "    return s\n",
        "\n",
        "#####################################\n",
        "# PARAMETRELER\n",
        "Vmin    = -2.55\n",
        "Vmax    = 2.55\n",
        "Va      = 1.29        # giriş\n",
        "n       = 9           # çözünürlük\n",
        "#####################################\n",
        "\n",
        "Vo = -1.        # başlangıçta çıkış (-)\n",
        "rn = 4\n",
        "i = n-1\n",
        "                          \n",
        "q = round((Vmax-Vmin)/(2**n - 1),rn)          # quantum\n",
        "\n",
        "gr = 1\n",
        "grRampVd = np.zeros(n)\n",
        "grRampVa = np.zeros(n)\n",
        "\n",
        "print(\"Vmin\",Vmin,sep=\"\\t\")\n",
        "print(\"Vmax\",Vmax,sep=\"\\t\")\n",
        "print(\"n\",n,sep=\"\\t\")\n",
        "print(\"q\",q,sep=\"\\t\")\n",
        "print(\"\\n\")\n",
        "print(\"Adım\",\"Va\",\"SB\",\"\\tHEX\",\"Vd\",\"Vo\",sep='\\t')\n",
        "print(\"---------------------------------------------------------\")\n",
        "\n",
        "base = 0\n",
        "while i>=0:\n",
        "    bias = 2**i\n",
        "    Vd = round((base + bias) * q + Vmin,rn)\n",
        "    Vo = round(Vd - Va,rn)\n",
        "\n",
        "    grRampVa[n-i-1] = Va\n",
        "    grRampVd[n-i-1] = Vd\n",
        "\n",
        "    print(n-i,Va,mybin(base+bias,n),hex(base+bias),Vd,Vo,sep='\\t')\n",
        "    i = i - 1\n",
        "    if Vo <= 0:\n",
        "        base = base + bias\n",
        "\n",
        "# son değerler\n",
        "grRampVa[n-i-2] = Va\n",
        "grRampVd[n-i-2] = Vd\n",
        "\n",
        "err = round(Va - Vd,rn+2)\n",
        "print(\"Hata\",err)\n",
        "\n",
        "if gr == 1:\n",
        "    axes = plt.gca()\n",
        "    axes.set_ylim([Vmin,Vmax])\n",
        "    plt.plot(grRampVd,'ro',grRampVa,'b--')"
      ],
      "execution_count": 0,
      "outputs": [
        {
          "output_type": "stream",
          "text": [
            "Vmin\t-2.55\n",
            "Vmax\t2.55\n",
            "n\t9\n",
            "q\t0.01\n",
            "\n",
            "\n",
            "Adım\tVa\tSB\t\tHEX\tVd\tVo\n",
            "---------------------------------------------------------\n",
            "1\t1.29\t100000000\t0x100\t0.01\t-1.28\n",
            "2\t1.29\t110000000\t0x180\t1.29\t0.0\n",
            "3\t1.29\t111000000\t0x1c0\t1.93\t0.64\n",
            "4\t1.29\t110100000\t0x1a0\t1.61\t0.32\n",
            "5\t1.29\t110010000\t0x190\t1.45\t0.16\n",
            "6\t1.29\t110001000\t0x188\t1.37\t0.08\n",
            "7\t1.29\t110000100\t0x184\t1.33\t0.04\n",
            "8\t1.29\t110000010\t0x182\t1.31\t0.02\n",
            "9\t1.29\t110000001\t0x181\t1.3\t0.01\n",
            "Hata -0.01\n"
          ],
          "name": "stdout"
        },
        {
          "output_type": "display_data",
          "data": {
            "image/png": "[encoded data removed]",
            "text/plain": [
              "<Figure size 432x288 with 1 Axes>"
            ]
          },
          "metadata": {
            "tags": []
          }
        }
      ]
    }
  ]
}